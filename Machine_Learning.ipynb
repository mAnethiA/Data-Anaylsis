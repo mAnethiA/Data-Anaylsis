{
 "cells": [
  {
   "cell_type": "code",
   "execution_count": 1,
   "metadata": {},
   "outputs": [],
   "source": [
    "import pandas as pd\n",
    "import numpy as np\n",
    "import matplotlib.pyplot as plt\n",
    "from sklearn import linear_model\n",
    "\n",
    "housing_data=pd.read_csv(\"/Users/ANKIT KUMAR/Downloads/video_packs/housing.csv\")"
   ]
  },
  {
   "cell_type": "code",
   "execution_count": 2,
   "metadata": {},
   "outputs": [
    {
     "data": {
      "text/html": [
       "<div>\n",
       "<style scoped>\n",
       "    .dataframe tbody tr th:only-of-type {\n",
       "        vertical-align: middle;\n",
       "    }\n",
       "\n",
       "    .dataframe tbody tr th {\n",
       "        vertical-align: top;\n",
       "    }\n",
       "\n",
       "    .dataframe thead th {\n",
       "        text-align: right;\n",
       "    }\n",
       "</style>\n",
       "<table border=\"1\" class=\"dataframe\">\n",
       "  <thead>\n",
       "    <tr style=\"text-align: right;\">\n",
       "      <th></th>\n",
       "      <th>Sq ft</th>\n",
       "      <th>Price</th>\n",
       "    </tr>\n",
       "  </thead>\n",
       "  <tbody>\n",
       "    <tr>\n",
       "      <th>0</th>\n",
       "      <td>1200</td>\n",
       "      <td>50000</td>\n",
       "    </tr>\n",
       "    <tr>\n",
       "      <th>1</th>\n",
       "      <td>1250</td>\n",
       "      <td>53000</td>\n",
       "    </tr>\n",
       "    <tr>\n",
       "      <th>2</th>\n",
       "      <td>1300</td>\n",
       "      <td>55000</td>\n",
       "    </tr>\n",
       "    <tr>\n",
       "      <th>3</th>\n",
       "      <td>1350</td>\n",
       "      <td>54000</td>\n",
       "    </tr>\n",
       "    <tr>\n",
       "      <th>4</th>\n",
       "      <td>1400</td>\n",
       "      <td>58000</td>\n",
       "    </tr>\n",
       "    <tr>\n",
       "      <th>5</th>\n",
       "      <td>1450</td>\n",
       "      <td>60000</td>\n",
       "    </tr>\n",
       "    <tr>\n",
       "      <th>6</th>\n",
       "      <td>1500</td>\n",
       "      <td>65000</td>\n",
       "    </tr>\n",
       "  </tbody>\n",
       "</table>\n",
       "</div>"
      ],
      "text/plain": [
       "   Sq ft  Price\n",
       "0   1200  50000\n",
       "1   1250  53000\n",
       "2   1300  55000\n",
       "3   1350  54000\n",
       "4   1400  58000\n",
       "5   1450  60000\n",
       "6   1500  65000"
      ]
     },
     "execution_count": 2,
     "metadata": {},
     "output_type": "execute_result"
    }
   ],
   "source": [
    "housing_data"
   ]
  },
  {
   "cell_type": "code",
   "execution_count": 7,
   "metadata": {},
   "outputs": [
    {
     "data": {
      "image/png": "[encoded data removed]",
      "text/plain": [
       "<Figure size 432x288 with 1 Axes>"
      ]
     },
     "metadata": {},
     "output_type": "display_data"
    }
   ],
   "source": [
    "x=housing_data['Sq ft']\n",
    "y=housing_data['Price']\n",
    "plt.scatter( x,y,color='g')\n",
    "plt.show()"
   ]
  },
  {
   "cell_type": "code",
   "execution_count": 13,
   "metadata": {},
   "outputs": [
    {
     "data": {
      "text/plain": [
       "array([63071.42857143])"
      ]
     },
     "execution_count": 13,
     "metadata": {},
     "output_type": "execute_result"
    }
   ],
   "source": [
    "x=housing_data[['Sq ft']]\n",
    "y=housing_data['Price']\n",
    "\n",
    "regr=linear_model.LinearRegression()\n",
    "#train data\n",
    "regr.fit(x,y)\n",
    "\n",
    "#test data\n",
    "#2d array\n",
    "x_test=([[1500]])\n",
    "predict_outcome=regr.predict(x_test)\n",
    "predict_outcome\n"
   ]
  },
  {
   "cell_type": "code",
   "execution_count": 15,
   "metadata": {},
   "outputs": [
    {
     "data": {
      "image/png": "[encoded data removed]",
      "text/plain": [
       "<Figure size 432x288 with 1 Axes>"
      ]
     },
     "metadata": {},
     "output_type": "display_data"
    }
   ],
   "source": [
    "plt.scatter(x,y,color='b')\n",
    "plt.plot(x,regr.predict(x),color='r',linewidth=2)\n",
    "plt.xlabel(\"Squarefeet\")\n",
    "plt.ylabel(\"Price\")\n",
    "plt.show()"
   ]
  },
  {
   "cell_type": "code",
   "execution_count": null,
   "metadata": {},
   "outputs": [],
   "source": [
    "import statsmodels.api as sm\n",
    "from statsmodel.sandbox"
   ]
  },
  {
   "cell_type": "code",
   "execution_count": 21,
   "metadata": {},
   "outputs": [
    {
     "name": "stdout",
     "output_type": "stream",
     "text": [
      "       1      2    3     4    sum Unnamed: 5\n",
      "0    201  10018  250  3046  13515        yes\n",
      "1    205  10016  395  3044  13660        yes\n",
      "2    257  10129  109  3251  13746        yes\n",
      "3    246  10064  324  3137  13771        yes\n",
      "4    117  10115  496  3094  13822        yes\n",
      "5    406  10187  166  3068  13827        yes\n",
      "6    461  10252  172  3062  13947        yes\n",
      "7    158  10192  144  3469  13963        yes\n",
      "8    136  10376  230  3223  13965        yes\n",
      "9    194  10092  626  3083  13995        yes\n",
      "10   427  10404  137  3029  13997        yes\n",
      "11   151  10203  411  3257  14022        yes\n",
      "12   338  10074  432  3246  14090        yes\n",
      "13   362  10403  257  3073  14095        yes\n",
      "14   108  10451  336  3238  14133        yes\n",
      "15   315  10005  302  3516  14138        yes\n",
      "16   193  10289  629  3040  14151        yes\n",
      "17   279  10308  199  3426  14212        yes\n",
      "18   120  10198  233  3665  14216        yes\n",
      "19   246  10176  717  3079  14218        yes\n",
      "20   226  10232  659  3105  14222        yes\n",
      "21   115  10167  538  3426  14246        yes\n",
      "22   497  10057  475  3253  14282        yes\n",
      "23   449  10284  512  3044  14289        yes\n",
      "24   289  10127  140  3742  14298        yes\n",
      "25   313  10555  178  3272  14318        yes\n",
      "26   411  10126  272  3518  14327        yes\n",
      "27   244  10665  246  3195  14350        yes\n",
      "28   228  10080  401  3642  14351        yes\n",
      "29   274  10452  603  3024  14353        yes\n",
      "..   ...    ...  ...   ...    ...        ...\n",
      "970  400  14123  794  4745  20062         No\n",
      "971  473  14219  567  4822  20081         No\n",
      "972  261  14215  681  4936  20093         No\n",
      "973  135  14753  617  4588  20093         No\n",
      "974  432  14306  458  4918  20114         No\n",
      "975  338  14102  793  4892  20125         No\n",
      "976  173  14877  107  4968  20125         No\n",
      "977  414  14360  519  4839  20132         No\n",
      "978  151  14885  653  4454  20143         No\n",
      "979  108  14315  943  4786  20152         No\n",
      "980  250  14754  394  4785  20183         No\n",
      "981  250  14855  965  4125  20195         No\n",
      "982  101  14811  877  4410  20199         No\n",
      "983  239  14359  981  4622  20201         No\n",
      "984  110  14890  656  4552  20208         No\n",
      "985  390  14758  991  4076  20215         No\n",
      "986  385  14949  265  4672  20271         No\n",
      "987  371  14688  817  4431  20307         No\n",
      "988  201  14929  448  4775  20353         No\n",
      "989  325  14915  211  4944  20395         No\n",
      "990  205  14918  841  4442  20406         No\n",
      "991  473  14714  514  4732  20433         No\n",
      "992  108  14853  633  4866  20460         No\n",
      "993  330  14992  308  4895  20525         No\n",
      "994  301  14852  812  4564  20529         No\n",
      "995  413  14914  523  4683  20533         No\n",
      "996  359  14423  927  4838  20547         No\n",
      "997  316  14872  613  4760  20561         No\n",
      "998  305  14926  897  4572  20700         No\n",
      "999  168  14798  834  4937  20737         No\n",
      "\n",
      "[1000 rows x 6 columns]\n"
     ]
    }
   ],
   "source": [
    "import pandas as pd\n",
    "import numpy as np\n",
    "import matplotlib.pyplot as plt\n",
    "balance_data=pd.read_csv(\"/Users/ANKIT KUMAR/Downloads/video_packs/titanic dataset/DecisionTree Dataset.csv\")\n",
    "print(balance_data)"
   ]
  },
  {
   "cell_type": "code",
   "execution_count": 23,
   "metadata": {},
   "outputs": [
    {
     "name": "stdout",
     "output_type": "stream",
     "text": [
      "     sepal length  sepal width  petal length  petal width         species\n",
      "0             5.1          3.5           1.4          0.2     Iris-setosa\n",
      "1             4.9          3.0           1.4          0.2     Iris-setosa\n",
      "2             4.7          3.2           1.3          0.2     Iris-setosa\n",
      "3             4.6          3.1           1.5          0.2     Iris-setosa\n",
      "4             5.0          3.6           1.4          0.2     Iris-setosa\n",
      "5             5.4          3.9           1.7          0.4     Iris-setosa\n",
      "6             4.6          3.4           1.4          0.3     Iris-setosa\n",
      "7             5.0          3.4           1.5          0.2     Iris-setosa\n",
      "8             4.4          2.9           1.4          0.2     Iris-setosa\n",
      "9             4.9          3.1           1.5          0.1     Iris-setosa\n",
      "10            5.4          3.7           1.5          0.2     Iris-setosa\n",
      "11            4.8          3.4           1.6          0.2     Iris-setosa\n",
      "12            4.8          3.0           1.4          0.1     Iris-setosa\n",
      "13            4.3          3.0           1.1          0.1     Iris-setosa\n",
      "14            5.8          4.0           1.2          0.2     Iris-setosa\n",
      "15            5.7          4.4           1.5          0.4     Iris-setosa\n",
      "16            5.4          3.9           1.3          0.4     Iris-setosa\n",
      "17            5.1          3.5           1.4          0.3     Iris-setosa\n",
      "18            5.7          3.8           1.7          0.3     Iris-setosa\n",
      "19            5.1          3.8           1.5          0.3     Iris-setosa\n",
      "20            5.4          3.4           1.7          0.2     Iris-setosa\n",
      "21            5.1          3.7           1.5          0.4     Iris-setosa\n",
      "22            4.6          3.6           1.0          0.2     Iris-setosa\n",
      "23            5.1          3.3           1.7          0.5     Iris-setosa\n",
      "24            4.8          3.4           1.9          0.2     Iris-setosa\n",
      "25            5.0          3.0           1.6          0.2     Iris-setosa\n",
      "26            5.0          3.4           1.6          0.4     Iris-setosa\n",
      "27            5.2          3.5           1.5          0.2     Iris-setosa\n",
      "28            5.2          3.4           1.4          0.2     Iris-setosa\n",
      "29            4.7          3.2           1.6          0.2     Iris-setosa\n",
      "..            ...          ...           ...          ...             ...\n",
      "120           6.9          3.2           5.7          2.3  Iris-virginica\n",
      "121           5.6          2.8           4.9          2.0  Iris-virginica\n",
      "122           7.7          2.8           6.7          2.0  Iris-virginica\n",
      "123           6.3          2.7           4.9          1.8  Iris-virginica\n",
      "124           6.7          3.3           5.7          2.1  Iris-virginica\n",
      "125           7.2          3.2           6.0          1.8  Iris-virginica\n",
      "126           6.2          2.8           4.8          1.8  Iris-virginica\n",
      "127           6.1          3.0           4.9          1.8  Iris-virginica\n",
      "128           6.4          2.8           5.6          2.1  Iris-virginica\n",
      "129           7.2          3.0           5.8          1.6  Iris-virginica\n",
      "130           7.4          2.8           6.1          1.9  Iris-virginica\n",
      "131           7.9          3.8           6.4          2.0  Iris-virginica\n",
      "132           6.4          2.8           5.6          2.2  Iris-virginica\n",
      "133           6.3          2.8           5.1          1.5  Iris-virginica\n",
      "134           6.1          2.6           5.6          1.4  Iris-virginica\n",
      "135           7.7          3.0           6.1          2.3  Iris-virginica\n",
      "136           6.3          3.4           5.6          2.4  Iris-virginica\n",
      "137           6.4          3.1           5.5          1.8  Iris-virginica\n",
      "138           6.0          3.0           4.8          1.8  Iris-virginica\n",
      "139           6.9          3.1           5.4          2.1  Iris-virginica\n",
      "140           6.7          3.1           5.6          2.4  Iris-virginica\n",
      "141           6.9          3.1           5.1          2.3  Iris-virginica\n",
      "142           5.8          2.7           5.1          1.9  Iris-virginica\n",
      "143           6.8          3.2           5.9          2.3  Iris-virginica\n",
      "144           6.7          3.3           5.7          2.5  Iris-virginica\n",
      "145           6.7          3.0           5.2          2.3  Iris-virginica\n",
      "146           6.3          2.5           5.0          1.9  Iris-virginica\n",
      "147           6.5          3.0           5.2          2.0  Iris-virginica\n",
      "148           6.2          3.4           5.4          2.3  Iris-virginica\n",
      "149           5.9          3.0           5.1          1.8  Iris-virginica\n",
      "\n",
      "[150 rows x 5 columns]\n"
     ]
    }
   ],
   "source": [
    "import pandas as pd\n",
    "import numpy as np\n",
    "import matplotlib.pyplot as plt\n",
    "from sklearn import linear_model\n",
    "\n",
    "housing_data=pd.read_csv(\"/Users/ANKIT KUMAR/Downloads/video_packs/titanic dataset/iris_data_set.csv\")\n",
    "print(housing_data)"
   ]
  },
  {
   "cell_type": "code",
   "execution_count": null,
   "metadata": {},
   "outputs": [],
   "source": []
  }
 ],
 "metadata": {
  "kernelspec": {
   "display_name": "Python 3",
   "language": "python",
   "name": "python3"
  },
  "language_info": {
   "codemirror_mode": {
    "name": "ipython",
    "version": 3
   },
   "file_extension": ".py",
   "mimetype": "text/x-python",
   "name": "python",
   "nbconvert_exporter": "python",
   "pygments_lexer": "ipython3",
   "version": "3.7.4"
  }
 },
 "nbformat": 4,
 "nbformat_minor": 2
}
